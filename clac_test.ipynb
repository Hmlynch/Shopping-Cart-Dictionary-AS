{
 "cells": [
  {
   "cell_type": "code",
   "execution_count": 1,
   "metadata": {},
   "outputs": [
    {
     "name": "stdout",
     "output_type": "stream",
     "text": [
      "Area = 25.0\n"
     ]
    },
    {
     "ename": "TypeError",
     "evalue": "square_foot() missing 2 required positional arguments: 'l' and 'w'",
     "output_type": "error",
     "traceback": [
      "\u001b[0;31m---------------------------------------------------------------------------\u001b[0m",
      "\u001b[0;31mTypeError\u001b[0m                                 Traceback (most recent call last)",
      "Cell \u001b[0;32mIn [1], line 3\u001b[0m\n\u001b[1;32m      1\u001b[0m \u001b[39mfrom\u001b[39;00m \u001b[39mcalculator_1\u001b[39;00m \u001b[39mimport\u001b[39;00m square_foot\n\u001b[0;32m----> 3\u001b[0m square_foot()\n",
      "\u001b[0;31mTypeError\u001b[0m: square_foot() missing 2 required positional arguments: 'l' and 'w'"
     ]
    }
   ],
   "source": [
    "from calculator_1 import square_foot\n",
    "\n",
    "square_foot()"
   ]
  },
  {
   "cell_type": "code",
   "execution_count": 4,
   "metadata": {},
   "outputs": [
    {
     "name": "stdout",
     "output_type": "stream",
     "text": [
      "Circumference = 31.400000000000002\n"
     ]
    },
    {
     "ename": "TypeError",
     "evalue": "circumference() missing 1 required positional argument: 'r'",
     "output_type": "error",
     "traceback": [
      "\u001b[0;31m---------------------------------------------------------------------------\u001b[0m",
      "\u001b[0;31mTypeError\u001b[0m                                 Traceback (most recent call last)",
      "Cell \u001b[0;32mIn [4], line 3\u001b[0m\n\u001b[1;32m      1\u001b[0m \u001b[39mfrom\u001b[39;00m \u001b[39mcalculator_2\u001b[39;00m \u001b[39mimport\u001b[39;00m circumference\n\u001b[0;32m----> 3\u001b[0m circumference()\n",
      "\u001b[0;31mTypeError\u001b[0m: circumference() missing 1 required positional argument: 'r'"
     ]
    }
   ],
   "source": [
    "from calculator_2 import circumference\n",
    "\n",
    "circumference()"
   ]
  }
 ],
 "metadata": {
  "kernelspec": {
   "display_name": "Python 3.9.7 64-bit",
   "language": "python",
   "name": "python3"
  },
  "language_info": {
   "codemirror_mode": {
    "name": "ipython",
    "version": 3
   },
   "file_extension": ".py",
   "mimetype": "text/x-python",
   "name": "python",
   "nbconvert_exporter": "python",
   "pygments_lexer": "ipython3",
   "version": "3.9.7"
  },
  "orig_nbformat": 4,
  "vscode": {
   "interpreter": {
    "hash": "aee8b7b246df8f9039afb4144a1f6fd8d2ca17a180786b69acc140d282b71a49"
   }
  }
 },
 "nbformat": 4,
 "nbformat_minor": 2
}
