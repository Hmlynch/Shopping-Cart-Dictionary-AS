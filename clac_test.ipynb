{
 "cells": [
  {
   "cell_type": "code",
   "execution_count": 6,
   "metadata": {},
   "outputs": [
    {
     "ename": "TypeError",
     "evalue": "argument of type 'function' is not iterable",
     "output_type": "error",
     "traceback": [
      "\u001b[0;31m---------------------------------------------------------------------------\u001b[0m",
      "\u001b[0;31mTypeError\u001b[0m                                 Traceback (most recent call last)",
      "Cell \u001b[0;32mIn [6], line 3\u001b[0m\n\u001b[1;32m      1\u001b[0m \u001b[39mfrom\u001b[39;00m \u001b[39mcalculator_1\u001b[39;00m \u001b[39mimport\u001b[39;00m square_foot\n\u001b[0;32m----> 3\u001b[0m square_foot(\u001b[39m7\u001b[39;49m, \u001b[39m6\u001b[39;49m)\n",
      "File \u001b[0;32m~/Desktop/Python Assignments/dict_shopping_cart/calculator_1.py:9\u001b[0m, in \u001b[0;36msquare_foot\u001b[0;34m(l, w)\u001b[0m\n\u001b[1;32m      8\u001b[0m \u001b[39mdef\u001b[39;00m \u001b[39msquare_foot\u001b[39m(l, w):\n\u001b[0;32m----> 9\u001b[0m     \u001b[39mif\u001b[39;00m l \u001b[39min\u001b[39;49;00m square_foot \u001b[39mand\u001b[39;00m w \u001b[39min\u001b[39;00m square_foot:\n\u001b[1;32m     10\u001b[0m         \u001b[39mprint\u001b[39m(l\u001b[39m*\u001b[39mw)\n",
      "\u001b[0;31mTypeError\u001b[0m: argument of type 'function' is not iterable"
     ]
    }
   ],
   "source": [
    "from calculator_1 import square_foot\n",
    "\n",
    "square_foot(7, 6)"
   ]
  },
  {
   "cell_type": "code",
   "execution_count": 7,
   "metadata": {},
   "outputs": [
    {
     "ename": "TypeError",
     "evalue": "argument of type 'function' is not iterable",
     "output_type": "error",
     "traceback": [
      "\u001b[0;31m---------------------------------------------------------------------------\u001b[0m",
      "\u001b[0;31mTypeError\u001b[0m                                 Traceback (most recent call last)",
      "Cell \u001b[0;32mIn [7], line 3\u001b[0m\n\u001b[1;32m      1\u001b[0m \u001b[39mfrom\u001b[39;00m \u001b[39mcalculator_1\u001b[39;00m \u001b[39mimport\u001b[39;00m circumference\n\u001b[0;32m----> 3\u001b[0m circumference(\u001b[39m6\u001b[39;49m)\n",
      "File \u001b[0;32m~/Desktop/Python Assignments/dict_shopping_cart/calculator_1.py:22\u001b[0m, in \u001b[0;36mcircumference\u001b[0;34m(r)\u001b[0m\n\u001b[1;32m     21\u001b[0m \u001b[39mdef\u001b[39;00m \u001b[39mcircumference\u001b[39m(r):\n\u001b[0;32m---> 22\u001b[0m     \u001b[39mif\u001b[39;00m r \u001b[39min\u001b[39;49;00m circumference:\n\u001b[1;32m     23\u001b[0m         \u001b[39mprint\u001b[39m(\u001b[39m2\u001b[39m\u001b[39m*\u001b[39m\u001b[39m3.14\u001b[39m\u001b[39m*\u001b[39mr)\n",
      "\u001b[0;31mTypeError\u001b[0m: argument of type 'function' is not iterable"
     ]
    }
   ],
   "source": [
    "from calculator_1 import circumference\n",
    "\n",
    "circumference(6)"
   ]
  }
 ],
 "metadata": {
  "kernelspec": {
   "display_name": "Python 3.9.7 64-bit",
   "language": "python",
   "name": "python3"
  },
  "language_info": {
   "codemirror_mode": {
    "name": "ipython",
    "version": 3
   },
   "file_extension": ".py",
   "mimetype": "text/x-python",
   "name": "python",
   "nbconvert_exporter": "python",
   "pygments_lexer": "ipython3",
   "version": "3.9.7"
  },
  "orig_nbformat": 4,
  "vscode": {
   "interpreter": {
    "hash": "aee8b7b246df8f9039afb4144a1f6fd8d2ca17a180786b69acc140d282b71a49"
   }
  }
 },
 "nbformat": 4,
 "nbformat_minor": 2
}
